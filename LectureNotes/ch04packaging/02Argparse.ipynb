{
 "cells": [
  {
   "cell_type": "markdown",
   "metadata": {},
   "source": [
    "## Argparse"
   ]
  },
  {
   "cell_type": "markdown",
   "metadata": {},
   "source": [
    "This is the standard library for building programs with a command-line interface. Here we show a short introduction to it, but we recommend to read the [official tutorial](https://docs.python.org/3/howto/argparse.html)."
   ]
  },
  {
   "cell_type": "code",
   "execution_count": 1,
   "metadata": {
    "collapsed": false
   },
   "outputs": [
    {
     "name": "stdout",
     "output_type": "stream",
     "text": [
      "Writing greeter.py\n"
     ]
    }
   ],
   "source": [
    "%%writefile greeter.py\n",
    "#!/usr/bin/env python\n",
    "from argparse import ArgumentParser\n",
    "\n",
    "if __name__ == \"__main__\":\n",
    "    parser = ArgumentParser(description=\"Generate appropriate greetings\")\n",
    "    parser.add_argument('--title', '-t')\n",
    "    parser.add_argument('--polite','-p', action=\"store_true\")\n",
    "    parser.add_argument('personal')\n",
    "    parser.add_argument('family')\n",
    "    arguments= parser.parse_args()\n",
    "    \n",
    "    greeting = \"How do you do, \" if arguments.polite else \"Hey, \"\n",
    "    if arguments.title:\n",
    "        greeting += f\"{arguments.title} \"\n",
    "    greeting += f\"{arguments.personal} {arguments.family}.\"\n",
    "    print(greeting)\n"
   ]
  },
  {
   "cell_type": "markdown",
   "metadata": {},
   "source": [
    "If you are using MacOS or Linux, you do the following to create an executable:"
   ]
  },
  {
   "cell_type": "code",
   "execution_count": 2,
   "metadata": {
    "collapsed": true
   },
   "outputs": [],
   "source": [
    "%%bash\n",
    "chmod u+x greeter.py"
   ]
  },
  {
   "cell_type": "markdown",
   "metadata": {},
   "source": [
    "and then running it as:"
   ]
  },
  {
   "cell_type": "code",
   "execution_count": 3,
   "metadata": {
    "collapsed": false
   },
   "outputs": [
    {
     "name": "stdout",
     "output_type": "stream",
     "text": [
      "usage: greeter.py [-h] [--title TITLE] [--polite] personal family\n",
      "\n",
      "Generate appropriate greetings\n",
      "\n",
      "positional arguments:\n",
      "  personal\n",
      "  family\n",
      "\n",
      "optional arguments:\n",
      "  -h, --help            show this help message and exit\n",
      "  --title TITLE, -t TITLE\n",
      "  --polite, -p\n"
     ]
    }
   ],
   "source": [
    "%%bash\n",
    "./greeter.py --help"
   ]
  },
  {
   "cell_type": "markdown",
   "metadata": {},
   "source": [
    "if you are using Windows, change `bash` by `cmd`, and prepend the commands by `python`\n",
    "```\n",
    "%%cmd\n",
    "python greeter.py John Cleese\n",
    "```"
   ]
  },
  {
   "cell_type": "code",
   "execution_count": 4,
   "metadata": {
    "collapsed": false
   },
   "outputs": [
    {
     "name": "stdout",
     "output_type": "stream",
     "text": [
      "Hey, John Cleese.\n"
     ]
    }
   ],
   "source": [
    "%%bash\n",
    "./greeter.py John Cleese"
   ]
  },
  {
   "cell_type": "code",
   "execution_count": 5,
   "metadata": {
    "collapsed": false
   },
   "outputs": [
    {
     "name": "stdout",
     "output_type": "stream",
     "text": [
      "How do you do, John Cleese.\n"
     ]
    }
   ],
   "source": [
    "%%bash\n",
    "./greeter.py --polite John Cleese"
   ]
  },
  {
   "cell_type": "code",
   "execution_count": 6,
   "metadata": {
    "collapsed": false
   },
   "outputs": [
    {
     "name": "stdout",
     "output_type": "stream",
     "text": [
      "Hey, Dr John Cleese.\n"
     ]
    }
   ],
   "source": [
    "%%bash\n",
    "./greeter.py John Cleese --title Dr"
   ]
  },
  {
   "cell_type": "markdown",
   "metadata": {},
   "source": [
    "Yes, [he is](https://en.wikipedia.org/wiki/John_Cleese#Honours_and_tributes)!"
   ]
  }
 ],
 "metadata": {
  "jekyll": {
   "display_name": "Argparse"
  },
  "kernelspec": {
   "display_name": "Python 3",
   "language": "python",
   "name": "python3"
  },
  "language_info": {
   "codemirror_mode": {
    "name": "ipython",
    "version": 3
   },
   "file_extension": ".py",
   "mimetype": "text/x-python",
   "name": "python",
   "nbconvert_exporter": "python",
   "pygments_lexer": "ipython3",
   "version": "3.7.0"
  },
  "widgets": {
   "state": {},
   "version": "1.1.2"
  }
 },
 "nbformat": 4,
 "nbformat_minor": 2
}
