{
 "cells": [
  {
   "cell_type": "markdown",
   "metadata": {},
   "source": [
    "## Documentation"
   ]
  },
  {
   "cell_type": "markdown",
   "metadata": {},
   "source": [
    "### Documentation is hard"
   ]
  },
  {
   "cell_type": "markdown",
   "metadata": {},
   "source": [
    "\n",
    "* Good documentation is hard, and very expensive.\n",
    "* Bad documentation is detrimental.\n",
    "* Good documentation quickly becomes bad if not kept up-to-date with code changes.\n",
    "* Professional companies pay large teams of documentation writers.\n"
   ]
  },
  {
   "cell_type": "markdown",
   "metadata": {},
   "source": [
    "### Prefer readable code with tests and vignettes"
   ]
  },
  {
   "cell_type": "markdown",
   "metadata": {},
   "source": [
    "\n",
    "If you don't have the capacity to maintain great documentation,\n",
    "focus on:\n",
    "\n",
    "* Readable code\n",
    "* Automated tests\n",
    "* Small code samples demonstrating how to use the api\n"
   ]
  },
  {
   "cell_type": "markdown",
   "metadata": {},
   "source": [
    "### Comment-based Documentation tools"
   ]
  },
  {
   "cell_type": "markdown",
   "metadata": {},
   "source": [
    "\n",
    "Documentation tools can produce extensive documentation about your code by pulling out comments near the beginning of functions,\n",
    "together with the signature, into a web page.\n",
    "\n",
    "The most popular is [Doxygen](http://www.stack.nl/~dimitri/doxygen/).\n",
    "[Have a look at an example of some Doxygen output](\n",
    "http://www.bempp.org/cppref/2.0/group__abstract__boundary__operators.html).\n",
    "\n",
    "[Sphinx](http://sphinx-doc.org/) is nice for Python, and works with C++ as well.\n",
    "Here's some [Sphinx-generated output](http://www.bempp.org/pythonref/2.0/bempp_visualization.html)\n",
    "and the [corresponding source code](https://bitbucket.org/bemppsolutions/bempp/src/8f10af0b0b4a94bc36c6236eb9ddb2a34cde1756/python/bempp/visualization.py?at=v2.0.2&fileviewer=file-view-default).\n",
    "[Breathe](https://breathe.readthedocs.io/en/latest/) can be used to make Sphinx and Doxygen work together.\n",
    "\n",
    "[Roxygen](https://cran.r-project.org/web/packages/roxygen2/vignettes/roxygen2.html) is good for R.\n"
   ]
  },
  {
   "cell_type": "markdown",
   "metadata": {},
   "source": [
    "## Example of using Sphinx"
   ]
  },
  {
   "cell_type": "markdown",
   "metadata": {},
   "source": [
    "### Write some docstrings"
   ]
  },
  {
   "cell_type": "markdown",
   "metadata": {},
   "source": [
    "We're going to document our \"greeter\" example using docstrings with Sphinx.\n",
    "\n",
    "There are various conventions for how to write docstrings, but the native sphinx one doesn't look nice when used with\n",
    "the built in `help` system.\n",
    "\n",
    "In writing Greeter, we used the docstring conventions from NumPy.\n",
    "So we use the [numpydoc](https://numpydoc.readthedocs.io/en/latest/) sphinx extension to \n",
    "support these."
   ]
  },
  {
   "cell_type": "markdown",
   "metadata": {},
   "source": [
    "```python\n",
    "\"\"\" \n",
    "Generate a greeting string for a person.\n",
    "\n",
    "Parameters\n",
    "----------\n",
    "personal: str\n",
    "    A given name, such as Will or Jean-Luc\n",
    "\n",
    "family: str\n",
    "    A family name, such as Riker or Picard\n",
    "\n",
    "title: str\n",
    "    An optional title, such as Captain or Reverend\n",
    "\n",
    "polite: bool\n",
    "    True for a formal greeting, False for informal.\n",
    "\n",
    "Returns\n",
    "-------\n",
    "string\n",
    "    An appropriate greeting\n",
    "\"\"\"\n",
    "```"
   ]
  },
  {
   "cell_type": "markdown",
   "metadata": {},
   "source": [
    "### Set up sphinx"
   ]
  },
  {
   "cell_type": "markdown",
   "metadata": {},
   "source": [
    "\n",
    "Invoke the [sphinx-quickstart](https://www.sphinx-doc.org/en/1.8/usage/quickstart.html) command to build Sphinx's\n",
    "configuration file automatically based on questions\n",
    "at the command line:\n"
   ]
  },
  {
   "cell_type": "markdown",
   "metadata": {},
   "source": [
    "``` bash\n",
    "sphinx-quickstart\n",
    "```"
   ]
  },
  {
   "cell_type": "markdown",
   "metadata": {},
   "source": [
    "Which responds:"
   ]
  },
  {
   "cell_type": "markdown",
   "metadata": {},
   "source": [
    "```\n",
    "Welcome to the Sphinx 1.8.0 quickstart utility.\n",
    "\n",
    "Please enter avalues for the following settings (just press Enter to\n",
    "accept a default value, if one is given in brackets).\n",
    "\n",
    "Enter the root path for documentation.\n",
    "> Root path for the documentation [.]:\n",
    "```"
   ]
  },
  {
   "cell_type": "markdown",
   "metadata": {},
   "source": [
    "and then look at and adapt the generated config, a file called\n",
    "conf.py in the root of the project. This contains the project's Sphinx configuration, as Python variables:"
   ]
  },
  {
   "cell_type": "markdown",
   "metadata": {},
   "source": [
    "``` python\n",
    "#Add any Sphinx extension module names here, as strings. They can be\n",
    "#extensions coming with Sphinx (named 'sphinx.ext.*') or your custom\n",
    "# ones.\n",
    "extensions = [\n",
    "    'sphinx.ext.autodoc',  # Support automatic documentation\n",
    "    'sphinx.ext.coverage', # Automatically check if functions are documented\n",
    "    'sphinx.ext.mathjax',  # Allow support for algebra\n",
    "    'sphinx.ext.viewcode', # Include the source code in documentation\n",
    "    'numpydoc'             # Support NumPy style docstrings\n",
    "]\n",
    "```"
   ]
  },
  {
   "cell_type": "markdown",
   "metadata": {},
   "source": [
    "To proceed with the example, we'll copy a finished conf.py into our folder, though normally you'll always use `sphinx-quickstart`\n"
   ]
  },
  {
   "cell_type": "code",
   "execution_count": 1,
   "metadata": {
    "collapsed": false
   },
   "outputs": [
    {
     "name": "stdout",
     "output_type": "stream",
     "text": [
      "Overwriting greetings/conf.py\n"
     ]
    }
   ],
   "source": [
    "%%writefile greetings/conf.py\n",
    "\n",
    "import sys\n",
    "import os\n",
    "\n",
    "extensions = [\n",
    "    'sphinx.ext.autodoc',  # Support automatic documentation\n",
    "    'sphinx.ext.coverage', # Automatically check if functions are documented\n",
    "    'sphinx.ext.mathjax',  # Allow support for algebra\n",
    "    'sphinx.ext.viewcode', # Include the source code in documentation\n",
    "    'numpydoc'             # Support NumPy style docstrings\n",
    "]\n",
    "templates_path = ['_templates']\n",
    "source_suffix = '.rst'\n",
    "master_doc = 'index'\n",
    "project = u'Greetings'\n",
    "copyright = u'2014, James Hetherington'\n",
    "version = '0.1'\n",
    "release = '0.1'\n",
    "exclude_patterns = ['_build']\n",
    "pygments_style = 'sphinx'\n",
    "htmlhelp_basename = 'Greetingsdoc'\n",
    "latex_elements = {\n",
    "}\n",
    "\n",
    "latex_documents = [\n",
    "  ('index', 'Greetings.tex', u'Greetings Documentation',\n",
    "   u'James Hetherington', 'manual'),\n",
    "]\n",
    "\n",
    "man_pages = [\n",
    "    ('index', 'greetings', u'Greetings Documentation',\n",
    "     [u'James Hetherington'], 1)\n",
    "]\n",
    "\n",
    "texinfo_documents = [\n",
    "  ('index', 'Greetings', u'Greetings Documentation',\n",
    "   u'James Hetherington', 'Greetings', 'One line description of project.',\n",
    "   'Miscellaneous'),\n",
    "]"
   ]
  },
  {
   "cell_type": "markdown",
   "metadata": {},
   "source": [
    "### Define the root documentation page"
   ]
  },
  {
   "cell_type": "markdown",
   "metadata": {},
   "source": [
    "\n",
    "Sphinx uses [RestructuredText](http://docutils.sourceforge.net/rst.html) another wiki markup format similar to Markdown.\n",
    "\n",
    "You define an \"index.rst\" file to contain any preamble text you want. The rest is autogenerated by `sphinx-quickstart`\n",
    "\n",
    "\n",
    "\n",
    "\n",
    "\n"
   ]
  },
  {
   "cell_type": "code",
   "execution_count": 2,
   "metadata": {
    "collapsed": false
   },
   "outputs": [
    {
     "name": "stdout",
     "output_type": "stream",
     "text": [
      "Overwriting greetings/index.rst\n"
     ]
    }
   ],
   "source": [
    "%%writefile greetings/index.rst\n",
    "Welcome to Greetings's documentation!\n",
    "=====================================\n",
    "\n",
    "Simple \"Hello, James\" module developed to teach research software engineering.\n",
    "\n",
    ".. autofunction:: greetings.greeter.greet"
   ]
  },
  {
   "cell_type": "markdown",
   "metadata": {},
   "source": [
    "###  Run sphinx"
   ]
  },
  {
   "cell_type": "markdown",
   "metadata": {},
   "source": [
    "\n",
    "We can run Sphinx using:\n"
   ]
  },
  {
   "cell_type": "code",
   "execution_count": 3,
   "metadata": {
    "collapsed": false
   },
   "outputs": [
    {
     "name": "stdout",
     "output_type": "stream",
     "text": [
      "Running Sphinx v1.8.0\n"
     ]
    },
    {
     "name": "stderr",
     "output_type": "stream",
     "text": [
      "\n",
      "Extension error:\n",
      "Could not import extension numpydoc (exception: No module named 'numpydoc')\n"
     ]
    }
   ],
   "source": [
    "%%bash\n",
    "cd greetings/\n",
    "sphinx-build . doc"
   ]
  },
  {
   "cell_type": "markdown",
   "metadata": {},
   "source": [
    "### Sphinx output"
   ]
  },
  {
   "cell_type": "markdown",
   "metadata": {},
   "source": [
    "Sphinx's output is [html](http://github-pages.ucl.ac.uk/rsd-engineeringcourse/ch04packaging/greetings/doc/index.html). We just created a simple single function's documentation, but Sphinx will create\n",
    "multiple nested pages of documentation automatically for many functions.\n",
    "\n",
    "\n",
    "\n"
   ]
  },
  {
   "cell_type": "markdown",
   "metadata": {},
   "source": [
    "## Doctest - testing your documentation is up to date"
   ]
  },
  {
   "cell_type": "markdown",
   "metadata": {},
   "source": [
    "`doctest` is a module included in the standard library. It runs all the code within the docstrings and checks whether the output is what it's claimed on the documentation.\n",
    "\n",
    "Let's add an example to our greeting function and check it with `doctest`. We are leaving the output with a small typo to see what's the type of output we get from `doctest`."
   ]
  },
  {
   "cell_type": "code",
   "execution_count": 4,
   "metadata": {},
   "outputs": [
    {
     "name": "stdout",
     "output_type": "stream",
     "text": [
      "Overwriting greetings/greetings/greeter.py\n"
     ]
    }
   ],
   "source": [
    "%%writefile greetings/greetings/greeter.py\n",
    "def greet(personal, family, title=\"\", polite=False):\n",
    "    \"\"\" Generate a greeting string for a person.\n",
    "\n",
    "    Parameters\n",
    "    ----------\n",
    "    personal: str\n",
    "        A given name, such as Will or Jean-Luc\n",
    "    family: str\n",
    "        A family name, such as Riker or Picard\n",
    "    title: str\n",
    "        An optional title, such as Captain or Reverend\n",
    "    polite: bool\n",
    "        True for a formal greeting, False for informal.\n",
    "\n",
    "    Returns\n",
    "    -------\n",
    "    string\n",
    "        An appropriate greeting\n",
    "        \n",
    "    Examples\n",
    "    --------\n",
    "    >>> from greetings.greeter import greet\n",
    "    >>> greet(\"Terry\", \"Jones\")\n",
    "    'Hey, Terry Jones.\n",
    "    \"\"\"\n",
    "\n",
    "    greeting= \"How do you do, \" if polite else \"Hey, \"\n",
    "    if title:\n",
    "        greeting += f\"{title} \"\n",
    "\n",
    "    greeting += f\"{personal} {family}.\"\n",
    "    return greeting"
   ]
  },
  {
   "cell_type": "code",
   "execution_count": 5,
   "metadata": {},
   "outputs": [
    {
     "name": "stdout",
     "output_type": "stream",
     "text": [
      "**********************************************************************\n",
      "File \"greetings/greetings/greeter.py\", line 23, in greeter.greet\n",
      "Failed example:\n",
      "    greet(\"Terry\", \"Jones\")\n",
      "Expected:\n",
      "    'Hey, Terry Jones.\n",
      "Got:\n",
      "    'Hey, Terry Jones.'\n",
      "**********************************************************************\n",
      "1 items had failures:\n",
      "   1 of   2 in greeter.greet\n",
      "***Test Failed*** 1 failures.\n"
     ]
    }
   ],
   "source": [
    "%%bash\n",
    "python -m doctest greetings/greetings/greeter.py"
   ]
  },
  {
   "cell_type": "markdown",
   "metadata": {},
   "source": [
    " "
   ]
  },
  {
   "cell_type": "markdown",
   "metadata": {},
   "source": [
    "which clearly identifies a tiny error in our example."
   ]
  },
  {
   "cell_type": "markdown",
   "metadata": {},
   "source": [
    "pytest can run the doctest too if you call it as:\n",
    "\n",
    "`pytest  --doctest-modules`"
   ]
  }
 ],
 "metadata": {
  "jekyll": {
   "display_name": "Documentation"
  },
  "kernelspec": {
   "display_name": "Python 3",
   "language": "python",
   "name": "python3"
  },
  "language_info": {
   "codemirror_mode": {
    "name": "ipython",
    "version": 3
   },
   "file_extension": ".py",
   "mimetype": "text/x-python",
   "name": "python",
   "nbconvert_exporter": "python",
   "pygments_lexer": "ipython3",
   "version": "3.7.0"
  }
 },
 "nbformat": 4,
 "nbformat_minor": 2
}
